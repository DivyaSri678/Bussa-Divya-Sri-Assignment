{
  "nbformat": 4,
  "nbformat_minor": 0,
  "metadata": {
    "colab": {
      "name": "Divya Sri.ipynb",
      "provenance": [],
      "collapsed_sections": []
    },
    "kernelspec": {
      "name": "python3",
      "display_name": "Python 3"
    },
    "language_info": {
      "name": "python"
    }
  },
  "cells": [
    {
      "cell_type": "code",
      "execution_count": null,
      "metadata": {
        "colab": {
          "base_uri": "https://localhost:8080/"
        },
        "id": "BnvkFsFE-fvP",
        "outputId": "7a58a38c-c5da-4fea-859c-94eefb1f5d5c"
      },
      "outputs": [
        {
          "output_type": "stream",
          "name": "stdout",
          "text": [
            "2002,2009,2016,2023,2037,2044,2051,2058,2072,2079,2086,2093,2107,2114,2121,2128,2142,2149,2156,2163,2177,2184,2191,2198,2212,2219,2226,2233,2247,2254,2261,2268,2282,2289,2296,2303,2317,2324,2331,2338,2352,2359,2366,2373,2387,2394,2401,2408,2422,2429,2436,2443,2457,2464,2471,2478,2492,2499,2506,2513,2527,2534,2541,2548,2562,2569,2576,2583,2597,2604,2611,2618,2632,2639,2646,2653,2667,2674,2681,2688,2702,2709,2716,2723,2737,2744,2751,2758,2772,2779,2786,2793,2807,2814,2821,2828,2842,2849,2856,2863,2877,2884,2891,2898,2912,2919,2926,2933,2947,2954,2961,2968,2982,2989,2996,3003,3017,3024,3031,3038,3052,3059,3066,3073,3087,3094,3101,3108,3122,3129,3136,3143,3157,3164,3171,3178,3192,3199,"
          ]
        }
      ],
      "source": [
        "for i in range(2000,3200):\n",
        "    if(i%7==0 and i%5!=0):\n",
        "        print(i,end=',')"
      ]
    },
    {
      "cell_type": "markdown",
      "source": [
        "Answer 1"
      ],
      "metadata": {
        "id": "3-J4fm1WADBo"
      }
    },
    {
      "cell_type": "code",
      "source": [
        "n=int(input(\"Enter number\"))\n",
        "def factorial(n):\n",
        "    if(n==0 or n==1):\n",
        "        return 1\n",
        "    else:\n",
        "        return n*factorial(n-1)\n",
        "print(factorial(n))"
      ],
      "metadata": {
        "colab": {
          "base_uri": "https://localhost:8080/"
        },
        "id": "_brF3hvdAUq8",
        "outputId": "4aa8cc6a-fbc0-4a2d-8d6e-6b5ec0f23470"
      },
      "execution_count": null,
      "outputs": [
        {
          "output_type": "stream",
          "name": "stdout",
          "text": [
            "Enter number5\n",
            "120\n"
          ]
        }
      ]
    },
    {
      "cell_type": "markdown",
      "source": [
        "Answer 2"
      ],
      "metadata": {
        "id": "9QEZuyBgBHD5"
      }
    },
    {
      "cell_type": "code",
      "source": [
        "n=int(input(\"Enter number\"))\n",
        "for i in range(0,n+1):\n",
        "    x=dict([(i,i*i)])\n",
        "    print(x,end=',')\n"
      ],
      "metadata": {
        "colab": {
          "base_uri": "https://localhost:8080/"
        },
        "id": "Ghu7alRABIvE",
        "outputId": "aa6cff44-952a-4840-cece-d20611573c67"
      },
      "execution_count": null,
      "outputs": [
        {
          "output_type": "stream",
          "name": "stdout",
          "text": [
            "Enter number5\n",
            "{0: 0},{1: 1},{2: 4},{3: 9},{4: 16},{5: 25},"
          ]
        }
      ]
    },
    {
      "cell_type": "markdown",
      "source": [
        "Answer 3"
      ],
      "metadata": {
        "id": "3ZGeg4MQF9Ev"
      }
    },
    {
      "cell_type": "code",
      "source": [
        "n=input(\"enter numbers\")\n",
        "numbers_split=n.split(',')\n",
        "n_tuple=tuple(numbers_split)\n",
        "n_list=list(numbers_split)\n",
        "print(n_tuple)\n",
        "print(n_list)"
      ],
      "metadata": {
        "colab": {
          "base_uri": "https://localhost:8080/"
        },
        "id": "cskdfjlrF-rA",
        "outputId": "3f0aedbb-9bc2-49f9-dac3-759823741b13"
      },
      "execution_count": null,
      "outputs": [
        {
          "output_type": "stream",
          "name": "stdout",
          "text": [
            "enter numbers2 3 4 5\n",
            "('2 3 4 5',)\n",
            "['2 3 4 5']\n"
          ]
        }
      ]
    },
    {
      "cell_type": "markdown",
      "source": [
        "answer 4 "
      ],
      "metadata": {
        "id": "b9CrFCNwbozj"
      }
    },
    {
      "cell_type": "code",
      "source": [
        "class StringDemo:\n",
        "    def _init_(self):\n",
        "        self.str1=' '\n",
        "    def printString(self):\n",
        "        print(self.str1.upper())\n",
        "    def getString(self):\n",
        "        self.str1=input()\n",
        "str1=StringDemo()\n",
        "(str1.getString())\n",
        "str1.printString()"
      ],
      "metadata": {
        "colab": {
          "base_uri": "https://localhost:8080/"
        },
        "id": "vITcWoHFbqRA",
        "outputId": "69f2e7ef-6868-4d32-8132-a441edb08b7e"
      },
      "execution_count": null,
      "outputs": [
        {
          "output_type": "stream",
          "name": "stdout",
          "text": [
            "hello\n",
            "HELLO\n"
          ]
        }
      ]
    },
    {
      "cell_type": "markdown",
      "source": [
        "answer 5"
      ],
      "metadata": {
        "id": "04H_1M0Ab2Df"
      }
    },
    {
      "cell_type": "code",
      "source": [
        "import math \n",
        "d=(input(\"Enter values\"))\n",
        "d=d.split(',')\n",
        "e=[]\n",
        "for i in d:\n",
        "    q=round(math.sqrt((2*50*int(i))/30))\n",
        "    e.append(q)\n",
        "print(e)"
      ],
      "metadata": {
        "colab": {
          "base_uri": "https://localhost:8080/"
        },
        "id": "H2KWZEa0b3rk",
        "outputId": "f445a271-0bec-466f-ac02-c307b3219ba0"
      },
      "execution_count": null,
      "outputs": [
        {
          "output_type": "stream",
          "name": "stdout",
          "text": [
            "Enter values100,150,180\n",
            "[18, 22, 24]\n"
          ]
        }
      ]
    },
    {
      "cell_type": "markdown",
      "source": [
        "answer 6"
      ],
      "metadata": {
        "id": "oRQXV_TJemCS"
      }
    },
    {
      "cell_type": "code",
      "source": [
        "row=int(input(\"enter no of rows\"))\n",
        "col=int(input(\"Enter no of col\"))\n",
        "matrix=[] \n",
        "for r in range(row):\n",
        "    rval=[]\n",
        "    for c in range(col):\n",
        "        rval.append(r*c)\n",
        "    matrix.append(rval)\n",
        "print(matrix)\n"
      ],
      "metadata": {
        "id": "z1HNNvs-enSs",
        "colab": {
          "base_uri": "https://localhost:8080/"
        },
        "outputId": "71e7fa4e-98de-4a08-aa12-f3531b33e03b"
      },
      "execution_count": 1,
      "outputs": [
        {
          "output_type": "stream",
          "name": "stdout",
          "text": [
            "enter no of rows3\n",
            "Enter no of col5\n",
            "[[0, 0, 0, 0, 0], [0, 1, 2, 3, 4], [0, 2, 4, 6, 8]]\n"
          ]
        }
      ]
    },
    {
      "cell_type": "markdown",
      "source": [
        "answer 7"
      ],
      "metadata": {
        "id": "iwSJqQbP0xDs"
      }
    },
    {
      "cell_type": "code",
      "source": [
        "list=input(\"enter words\")\n",
        "list=list.split(',')\n",
        "print(sorted(list))"
      ],
      "metadata": {
        "colab": {
          "base_uri": "https://localhost:8080/"
        },
        "id": "uABRbaeJ0y9F",
        "outputId": "0e6e8b8a-efdf-4b10-b364-1333dd6efb94"
      },
      "execution_count": 1,
      "outputs": [
        {
          "output_type": "stream",
          "name": "stdout",
          "text": [
            "enter wordswithout,hello,bag,world\n",
            "['bag', 'hello', 'without', 'world']\n"
          ]
        }
      ]
    },
    {
      "cell_type": "markdown",
      "source": [
        "answer 8"
      ],
      "metadata": {
        "id": "5FB6uo4Z9Z7T"
      }
    },
    {
      "cell_type": "code",
      "source": [
        "lines = []\n",
        "while True:\n",
        "    l = input()\n",
        "    if l:\n",
        "        lines.append(l.upper())\n",
        "    else:\n",
        "        break\n",
        "\n",
        "for l in lines:\n",
        "    print(l)\n"
      ],
      "metadata": {
        "colab": {
          "base_uri": "https://localhost:8080/"
        },
        "id": "dmSIy0MI9bIZ",
        "outputId": "b614065b-0acb-414f-9bce-9fbd8911c526"
      },
      "execution_count": 2,
      "outputs": [
        {
          "output_type": "stream",
          "name": "stdout",
          "text": [
            "Hello world\n",
            "practice makes perfect\n",
            "\n",
            "HELLO WORLD\n",
            "PRACTICE MAKES PERFECT\n"
          ]
        }
      ]
    },
    {
      "cell_type": "markdown",
      "source": [
        "answer 9"
      ],
      "metadata": {
        "id": "I-Maqu4p9g04"
      }
    },
    {
      "cell_type": "code",
      "source": [
        "seq=input()\n",
        "seq=seq.split(\" \")\n",
        "seq1=[]\n",
        "for i in seq:\n",
        "    if i not in seq1:\n",
        "        seq1.append(i)\n",
        "\n",
        "seq1.sort()\n",
        "print((' ').join(seq1))"
      ],
      "metadata": {
        "colab": {
          "base_uri": "https://localhost:8080/"
        },
        "id": "CNzs62XG9izz",
        "outputId": "4a900578-c8e6-4dda-9852-df766daa314b"
      },
      "execution_count": 3,
      "outputs": [
        {
          "output_type": "stream",
          "name": "stdout",
          "text": [
            "hello world and practice makes perfect and hello \n",
            " and hello makes perfect practice world\n"
          ]
        }
      ]
    },
    {
      "cell_type": "markdown",
      "source": [
        "answer 10"
      ],
      "metadata": {
        "id": "kcv3Me9496Ur"
      }
    },
    {
      "cell_type": "code",
      "source": [
        "items = []\n",
        "num = [x for x in input().split(',')]\n",
        "for p in num:\n",
        "    x = int(p, 2)\n",
        "    if not x%5:\n",
        "        items.append(p)\n",
        "print(','.join(items))"
      ],
      "metadata": {
        "colab": {
          "base_uri": "https://localhost:8080/"
        },
        "id": "3Tw3oYPB97eX",
        "outputId": "bdc06614-0baa-4fea-8d5e-c74d0e981a3a"
      },
      "execution_count": 4,
      "outputs": [
        {
          "output_type": "stream",
          "name": "stdout",
          "text": [
            "0100,0011,1010,1001\n",
            "1010\n"
          ]
        }
      ]
    },
    {
      "cell_type": "markdown",
      "source": [
        "answer 11"
      ],
      "metadata": {
        "id": "3NQhz0s_-Ded"
      }
    },
    {
      "cell_type": "code",
      "source": [
        "l=[]\n",
        "for i in range(1000,3000):\n",
        "    if i not in l:\n",
        "        if i%2==0:\n",
        "            l.append(i)\n",
        "print(l)"
      ],
      "metadata": {
        "id": "huhuWPm4-Eku"
      },
      "execution_count": null,
      "outputs": []
    },
    {
      "cell_type": "markdown",
      "source": [
        "answer 12"
      ],
      "metadata": {
        "id": "28Ni3PC7-Izl"
      }
    },
    {
      "cell_type": "code",
      "source": [
        "inp=input(\"enter string\")\n",
        "c=0\n",
        "a=0\n",
        "for i in inp:\n",
        "    if(i.isdigit()):\n",
        "        c=c+1 \n",
        "    if(i.isalpha()):\n",
        "        a=a+1\n",
        "print(\"LETTERS \",a)\n",
        "print(\"DIGITS \",c)"
      ],
      "metadata": {
        "id": "2dyYIPxQ-KE9"
      },
      "execution_count": null,
      "outputs": []
    },
    {
      "cell_type": "markdown",
      "source": [
        "answer 13"
      ],
      "metadata": {
        "id": "AHZO-dr6-OGu"
      }
    },
    {
      "cell_type": "code",
      "source": [
        "inp=input(\"Enter string:\")\n",
        "u=0\n",
        "l=0\n",
        "for i in inp:\n",
        "    if(i.isupper()):\n",
        "        u=u+1\n",
        "    if(i.islower()):\n",
        "        l=l+1\n",
        "print(\"UPPER CASE \",u)\n",
        "print(\"LOWER CASE \",l)"
      ],
      "metadata": {
        "colab": {
          "base_uri": "https://localhost:8080/"
        },
        "id": "VeWoCeEM-Qv-",
        "outputId": "b0cd91e4-b496-440a-bdc4-5133447b7694"
      },
      "execution_count": 5,
      "outputs": [
        {
          "output_type": "stream",
          "name": "stdout",
          "text": [
            "Enter string:hello world 123\n",
            "UPPER CASE  0\n",
            "LOWER CASE  10\n"
          ]
        }
      ]
    },
    {
      "cell_type": "markdown",
      "source": [
        "answer 14"
      ],
      "metadata": {
        "id": "VYDaZyEkJ3sH"
      }
    },
    {
      "cell_type": "code",
      "source": [
        "a=int(input(\"Enter number\"))\n",
        "n1 = int( \"%s\" %a)\n",
        "n2 = int( \"%s%s\" %(a,a))\n",
        "n3 = int( \"%s%s%s\" %(a,a,a))\n",
        "n4 = int( \"%s%s%s%s\" %(a,a,a,a) )\n",
        "s=int(n1)+int(n2)+int(n3)+int(n4)\n",
        "print(s)"
      ],
      "metadata": {
        "colab": {
          "base_uri": "https://localhost:8080/"
        },
        "id": "tX29EVY-J5CK",
        "outputId": "073ca4b8-ee7a-4d92-c097-f7efa8df2a52"
      },
      "execution_count": 6,
      "outputs": [
        {
          "output_type": "stream",
          "name": "stdout",
          "text": [
            "Enter number9\n",
            "11106\n"
          ]
        }
      ]
    },
    {
      "cell_type": "markdown",
      "source": [
        "answer 15"
      ],
      "metadata": {
        "id": "sgz7RRgFKAW9"
      }
    },
    {
      "cell_type": "code",
      "source": [
        "l=(input(\"Enter values\"))\n",
        "li=[(ll) for ll in l.split(\",\") if (int(ll)%2!=0)]\n",
        "print(' '.join(li))"
      ],
      "metadata": {
        "colab": {
          "base_uri": "https://localhost:8080/"
        },
        "id": "xjh5pf6iKBef",
        "outputId": "1bc953df-8cd3-4364-9b8e-4342881cea6c"
      },
      "execution_count": 7,
      "outputs": [
        {
          "output_type": "stream",
          "name": "stdout",
          "text": [
            "Enter values1,2,3,4,5,6,7,8,9\n",
            "1 3 5 7 9\n"
          ]
        }
      ]
    },
    {
      "cell_type": "markdown",
      "source": [
        "answer 16"
      ],
      "metadata": {
        "id": "BW-7fK7nKHzW"
      }
    },
    {
      "cell_type": "code",
      "source": [
        "netAmount = 0\n",
        "while True:\n",
        "    s = input(\"enter the operation and then amount\")\n",
        "    if not s:\n",
        "        break\n",
        "    values = s.split(\" \")\n",
        "    operation = values[0]\n",
        "    amount = int(values[1])\n",
        "    if operation==\"D\":\n",
        "        netAmount+=amount\n",
        "    elif operation==\"W\":\n",
        "        netAmount-=amount\n",
        "    else:\n",
        "        pass\n",
        "print(netAmount)"
      ],
      "metadata": {
        "colab": {
          "base_uri": "https://localhost:8080/"
        },
        "id": "42FZ-p1yKJbd",
        "outputId": "099c623a-7698-47e4-cca8-f1b04cd6bd31"
      },
      "execution_count": 8,
      "outputs": [
        {
          "output_type": "stream",
          "name": "stdout",
          "text": [
            "enter the operation and then amountD 300\n",
            "enter the operation and then amountD 300\n",
            "enter the operation and then amountW 200\n",
            "enter the operation and then amountD 100\n",
            "enter the operation and then amount\n",
            "500\n"
          ]
        }
      ]
    },
    {
      "cell_type": "markdown",
      "source": [
        "answer 17"
      ],
      "metadata": {
        "id": "sGgi8X-4KV_q"
      }
    },
    {
      "cell_type": "code",
      "source": [
        "import re\n",
        "\n",
        "passwords = input(\"Type in: \")\n",
        "passwords = passwords.split(\",\")\n",
        "\n",
        "accepted_pass = []\n",
        "for i in passwords:\n",
        "    \n",
        "    if len(i) < 6 or len(i) > 12:\n",
        "        continue\n",
        "\n",
        "    elif not re.search(\"([a-z])+\", i):\n",
        "        continue\n",
        "\n",
        "    elif not re.search(\"([A-Z])+\", i):\n",
        "        continue\n",
        "\n",
        "    elif not re.search(\"([0-9])+\", i):\n",
        "        continue\n",
        "\n",
        "    elif not re.search(\"([!@$%^&])+\", i):\n",
        "        continue\n",
        "\n",
        "    else:\n",
        "        accepted_pass.append(i)\n",
        "\n",
        "print((\" \").join(accepted_pass))"
      ],
      "metadata": {
        "colab": {
          "base_uri": "https://localhost:8080/"
        },
        "id": "QDr2nLjqKXGv",
        "outputId": "69a71119-f8fd-4874-f52a-78783bceb4c4"
      },
      "execution_count": 9,
      "outputs": [
        {
          "output_type": "stream",
          "name": "stdout",
          "text": [
            "Type in: ABd1234@1,aF1#\n",
            "ABd1234@1\n"
          ]
        }
      ]
    },
    {
      "cell_type": "markdown",
      "source": [
        "answer 18"
      ],
      "metadata": {
        "id": "mKP27Zl4Kqcu"
      }
    },
    {
      "cell_type": "code",
      "source": [
        "from operator import itemgetter, attrgetter\n",
        "l = []\n",
        "while True:\n",
        "    s = input()\n",
        "    if not s:\n",
        "        break\n",
        "    l.append(tuple(s.split(\",\")))\n",
        "\n",
        "print(sorted(l, key=itemgetter(0,1,2)))\n"
      ],
      "metadata": {
        "colab": {
          "base_uri": "https://localhost:8080/"
        },
        "id": "A8M-negBKrfl",
        "outputId": "3d04e03b-e50f-4e4b-cb4e-dbcad83203e9"
      },
      "execution_count": 10,
      "outputs": [
        {
          "output_type": "stream",
          "name": "stdout",
          "text": [
            "Tom,19,80\n",
            "John,20,90\n",
            "Jony,17,91\n",
            "Jony,17,93\n",
            "\n",
            "[('John', '20', '90'), ('Jony', '17', '91'), ('Jony', '17', '93'), ('Tom', '19', '80')]\n"
          ]
        }
      ]
    },
    {
      "cell_type": "markdown",
      "source": [
        "answer 19"
      ],
      "metadata": {
        "id": "aCbcmDc6K6O8"
      }
    },
    {
      "cell_type": "code",
      "source": [
        "n=int(input(\"Enter number\"))\n",
        "for i in range(0,n):\n",
        "    if i%7==0:\n",
        "        print(i)"
      ],
      "metadata": {
        "colab": {
          "base_uri": "https://localhost:8080/"
        },
        "id": "fA8jdDfeK7v1",
        "outputId": "42009f47-2aa9-4cd5-9014-1fcd9f8f4dfa"
      },
      "execution_count": 11,
      "outputs": [
        {
          "output_type": "stream",
          "name": "stdout",
          "text": [
            "Enter number21\n",
            "0\n",
            "7\n",
            "14\n"
          ]
        }
      ]
    },
    {
      "cell_type": "markdown",
      "source": [
        "answer 20"
      ],
      "metadata": {
        "id": "fV3f9FgeLCCO"
      }
    },
    {
      "cell_type": "code",
      "source": [
        "tuple = (1,2,3,4,5,6,7,8,9,10)\n",
        "tuple1 = tuple[:5]\n",
        "tuple2 = tuple[5:]\n",
        "print (tuple1)\n",
        "print (tuple2)"
      ],
      "metadata": {
        "colab": {
          "base_uri": "https://localhost:8080/"
        },
        "id": "tnfA2MGQMsH9",
        "outputId": "6fec0259-96e3-4b1e-d06e-8f11bf05b493"
      },
      "execution_count": 12,
      "outputs": [
        {
          "output_type": "stream",
          "name": "stdout",
          "text": [
            "(1, 2, 3, 4, 5)\n",
            "(6, 7, 8, 9, 10)\n"
          ]
        }
      ]
    },
    {
      "cell_type": "markdown",
      "source": [
        "answer 38"
      ],
      "metadata": {
        "id": "XOaAUveFNW5t"
      }
    },
    {
      "cell_type": "code",
      "source": [
        "def throws():\n",
        "    return 5/0\n",
        "\n",
        "try:\n",
        "    throws()\n",
        "except ZeroDivisionError:\n",
        "    print (\"division by zero error\")\n",
        "except Exception as err:\n",
        "    print (\"Caught an exception\")\n",
        "finally:\n",
        "    print (\"finally block\")"
      ],
      "metadata": {
        "colab": {
          "base_uri": "https://localhost:8080/"
        },
        "id": "F-h2X6VrNZAi",
        "outputId": "85d816f2-38b4-49fb-df4d-4291963bbb5d"
      },
      "execution_count": 27,
      "outputs": [
        {
          "output_type": "stream",
          "name": "stdout",
          "text": [
            "division by zero error\n",
            "finally block\n"
          ]
        }
      ]
    },
    {
      "cell_type": "markdown",
      "source": [
        "answer 51"
      ],
      "metadata": {
        "id": "MJgwsBOPb5e1"
      }
    },
    {
      "cell_type": "code",
      "source": [
        "class MyError(Exception):\n",
        "    \n",
        "\n",
        "    def __init__(self, msg):\n",
        "        self.msg = msg\n",
        "\n",
        "error = MyError(\"something wrong\")\n",
        "print(error)"
      ],
      "metadata": {
        "colab": {
          "base_uri": "https://localhost:8080/"
        },
        "id": "z6BeoTD8b63s",
        "outputId": "fbd38c21-93fd-4e62-cd41-72db8bafd199"
      },
      "execution_count": 30,
      "outputs": [
        {
          "output_type": "stream",
          "name": "stdout",
          "text": [
            "something wrong\n"
          ]
        }
      ]
    },
    {
      "cell_type": "markdown",
      "source": [
        "answer 52"
      ],
      "metadata": {
        "id": "kHD4wS_KcTZO"
      }
    },
    {
      "cell_type": "code",
      "source": [
        "import re\n",
        "\n",
        "email = \"john@google.com\"\n",
        "pattern = \"(\\w+)@\\w+.com\"\n",
        "ans = re.findall(pattern,email)\n",
        "print(ans)"
      ],
      "metadata": {
        "colab": {
          "base_uri": "https://localhost:8080/"
        },
        "id": "hIVjklJAcb_A",
        "outputId": "8bbec6e9-6678-4e12-d239-8926d628d186"
      },
      "execution_count": 31,
      "outputs": [
        {
          "output_type": "stream",
          "name": "stdout",
          "text": [
            "['john']\n"
          ]
        }
      ]
    },
    {
      "cell_type": "markdown",
      "source": [
        "answer 53"
      ],
      "metadata": {
        "id": "v5uMkeqccvKz"
      }
    },
    {
      "cell_type": "code",
      "source": [
        "import re\n",
        "\n",
        "email = \"john@google.com \"\n",
        "pattern = \"\\w+@(\\w+).com\"\n",
        "ans = re.findall(pattern,email)\n",
        "print(ans)"
      ],
      "metadata": {
        "colab": {
          "base_uri": "https://localhost:8080/"
        },
        "id": "G5m1qo-Ocwzq",
        "outputId": "b9acd02a-b312-4f4a-ae81-de73c985289f"
      },
      "execution_count": 32,
      "outputs": [
        {
          "output_type": "stream",
          "name": "stdout",
          "text": [
            "['google']\n"
          ]
        }
      ]
    },
    {
      "cell_type": "markdown",
      "source": [
        "answer 54"
      ],
      "metadata": {
        "id": "DlNxP9HodDi5"
      }
    },
    {
      "cell_type": "code",
      "source": [
        "sentence = input().split()\n",
        "ans = [sentence for sentence in sentence if sentence.isdigit()] \n",
        "print(ans)"
      ],
      "metadata": {
        "colab": {
          "base_uri": "https://localhost:8080/"
        },
        "id": "QQbtaCB5dE7y",
        "outputId": "1b49a013-af08-45f9-86a2-2e87fe19a7a9"
      },
      "execution_count": 33,
      "outputs": [
        {
          "output_type": "stream",
          "name": "stdout",
          "text": [
            "2 cats 3 dogs\n",
            "['2', '3']\n"
          ]
        }
      ]
    },
    {
      "cell_type": "markdown",
      "source": [
        "answer 55"
      ],
      "metadata": {
        "id": "84CWancBdTUG"
      }
    },
    {
      "cell_type": "code",
      "source": [
        "unicodeString = u\"hello divya!\"\n",
        "print (unicodeString)"
      ],
      "metadata": {
        "colab": {
          "base_uri": "https://localhost:8080/"
        },
        "id": "yZI4cPAzdVsV",
        "outputId": "3050b648-608b-48d5-8b77-d13a59e71de4"
      },
      "execution_count": 34,
      "outputs": [
        {
          "output_type": "stream",
          "name": "stdout",
          "text": [
            "hello divya!\n"
          ]
        }
      ]
    },
    {
      "cell_type": "markdown",
      "source": [
        "answer 56"
      ],
      "metadata": {
        "id": "A4qnoJRCdfZ0"
      }
    },
    {
      "cell_type": "code",
      "source": [
        "str=input()\n",
        "str=str.encode(\"utf-8\")\n",
        "print(str)"
      ],
      "metadata": {
        "colab": {
          "base_uri": "https://localhost:8080/"
        },
        "id": "qWLT3Nv6diPQ",
        "outputId": "ea7ae298-d401-4997-894b-6bd3cb881e38"
      },
      "execution_count": 35,
      "outputs": [
        {
          "output_type": "stream",
          "name": "stdout",
          "text": [
            "hello divya\n",
            "b'hello divya'\n"
          ]
        }
      ]
    },
    {
      "cell_type": "markdown",
      "source": [
        "answer 57"
      ],
      "metadata": {
        "id": "_pej4EtReRCd"
      }
    },
    {
      "cell_type": "code",
      "source": [
        "# -*- coding:utf-8 -*- "
      ],
      "metadata": {
        "id": "mklCoT3AeT1b"
      },
      "execution_count": null,
      "outputs": []
    },
    {
      "cell_type": "markdown",
      "source": [
        "answer 58"
      ],
      "metadata": {
        "id": "Z4H2KQNdemLV"
      }
    },
    {
      "cell_type": "code",
      "source": [
        "num = int(input())\n",
        "sum = 0\n",
        "for i in range(1, num+1):\n",
        "    sum+= i/(i+1)\n",
        "print(round(sum, 2))"
      ],
      "metadata": {
        "colab": {
          "base_uri": "https://localhost:8080/"
        },
        "id": "CyH-4W3nenfh",
        "outputId": "06ba4224-7b76-4fff-f203-ae233f51d259"
      },
      "execution_count": 36,
      "outputs": [
        {
          "output_type": "stream",
          "name": "stdout",
          "text": [
            "5\n",
            "3.55\n"
          ]
        }
      ]
    },
    {
      "cell_type": "markdown",
      "source": [
        "answer 59"
      ],
      "metadata": {
        "id": "6U5UfKzjfNVo"
      }
    },
    {
      "cell_type": "code",
      "source": [
        "def fun(n):\n",
        "    if n == 0:\n",
        "        return 0\n",
        "    return fun(n-1) + 100\n",
        "\n",
        "n = int(input())\n",
        "print(fun(n))"
      ],
      "metadata": {
        "colab": {
          "base_uri": "https://localhost:8080/"
        },
        "id": "h7AAk5xUfPPH",
        "outputId": "79e98464-a364-4bb2-e49b-19d1b8836149"
      },
      "execution_count": 37,
      "outputs": [
        {
          "output_type": "stream",
          "name": "stdout",
          "text": [
            "5\n",
            "500\n"
          ]
        }
      ]
    },
    {
      "cell_type": "markdown",
      "source": [
        "answer 60"
      ],
      "metadata": {
        "id": "wq7XM0cpfen0"
      }
    },
    {
      "cell_type": "code",
      "source": [
        "def fun(n):\n",
        "    if n < 2:\n",
        "        return n\n",
        "    return fun(n-1) + fun(n-2)\n",
        "\n",
        "n = int(input())\n",
        "print(fun(n))"
      ],
      "metadata": {
        "colab": {
          "base_uri": "https://localhost:8080/"
        },
        "id": "KPebVksPfgXv",
        "outputId": "a5f481cc-ac13-4cd8-e6b7-770f8c3aad81"
      },
      "execution_count": 38,
      "outputs": [
        {
          "output_type": "stream",
          "name": "stdout",
          "text": [
            "7\n",
            "13\n"
          ]
        }
      ]
    },
    {
      "cell_type": "markdown",
      "source": [
        "answer 61"
      ],
      "metadata": {
        "id": "OywhBBYmfwqy"
      }
    },
    {
      "cell_type": "code",
      "source": [
        "def fibo(n):\n",
        "    if n < 2:\n",
        "      return n\n",
        "    else:\n",
        "\t    return fibo(n-1)+fibo(n-2)\n",
        "\n",
        "def print_fiblist(n):\n",
        "    fib_list = [(str(fibo(i))) for i in range(0, n+1)]\n",
        "    return print(\",\".join(fib_list))\n",
        "n = int(input())\n",
        "print_fiblist(n)"
      ],
      "metadata": {
        "colab": {
          "base_uri": "https://localhost:8080/",
          "height": 537
        },
        "id": "EfOx9z47fycY",
        "outputId": "dc254314-9845-41b1-a7e9-0efda3e7350e"
      },
      "execution_count": 40,
      "outputs": [
        {
          "output_type": "error",
          "ename": "KeyboardInterrupt",
          "evalue": "ignored",
          "traceback": [
            "\u001b[0;31m---------------------------------------------------------------------------\u001b[0m",
            "\u001b[0;31mKeyboardInterrupt\u001b[0m                         Traceback (most recent call last)",
            "\u001b[0;32m/usr/local/lib/python3.7/dist-packages/ipykernel/kernelbase.py\u001b[0m in \u001b[0;36m_input_request\u001b[0;34m(self, prompt, ident, parent, password)\u001b[0m\n\u001b[1;32m    728\u001b[0m             \u001b[0;32mtry\u001b[0m\u001b[0;34m:\u001b[0m\u001b[0;34m\u001b[0m\u001b[0;34m\u001b[0m\u001b[0m\n\u001b[0;32m--> 729\u001b[0;31m                 \u001b[0mident\u001b[0m\u001b[0;34m,\u001b[0m \u001b[0mreply\u001b[0m \u001b[0;34m=\u001b[0m \u001b[0mself\u001b[0m\u001b[0;34m.\u001b[0m\u001b[0msession\u001b[0m\u001b[0;34m.\u001b[0m\u001b[0mrecv\u001b[0m\u001b[0;34m(\u001b[0m\u001b[0mself\u001b[0m\u001b[0;34m.\u001b[0m\u001b[0mstdin_socket\u001b[0m\u001b[0;34m,\u001b[0m \u001b[0;36m0\u001b[0m\u001b[0;34m)\u001b[0m\u001b[0;34m\u001b[0m\u001b[0;34m\u001b[0m\u001b[0m\n\u001b[0m\u001b[1;32m    730\u001b[0m             \u001b[0;32mexcept\u001b[0m \u001b[0mException\u001b[0m\u001b[0;34m:\u001b[0m\u001b[0;34m\u001b[0m\u001b[0;34m\u001b[0m\u001b[0m\n",
            "\u001b[0;32m/usr/local/lib/python3.7/dist-packages/jupyter_client/session.py\u001b[0m in \u001b[0;36mrecv\u001b[0;34m(self, socket, mode, content, copy)\u001b[0m\n\u001b[1;32m    802\u001b[0m         \u001b[0;32mtry\u001b[0m\u001b[0;34m:\u001b[0m\u001b[0;34m\u001b[0m\u001b[0;34m\u001b[0m\u001b[0m\n\u001b[0;32m--> 803\u001b[0;31m             \u001b[0mmsg_list\u001b[0m \u001b[0;34m=\u001b[0m \u001b[0msocket\u001b[0m\u001b[0;34m.\u001b[0m\u001b[0mrecv_multipart\u001b[0m\u001b[0;34m(\u001b[0m\u001b[0mmode\u001b[0m\u001b[0;34m,\u001b[0m \u001b[0mcopy\u001b[0m\u001b[0;34m=\u001b[0m\u001b[0mcopy\u001b[0m\u001b[0;34m)\u001b[0m\u001b[0;34m\u001b[0m\u001b[0;34m\u001b[0m\u001b[0m\n\u001b[0m\u001b[1;32m    804\u001b[0m         \u001b[0;32mexcept\u001b[0m \u001b[0mzmq\u001b[0m\u001b[0;34m.\u001b[0m\u001b[0mZMQError\u001b[0m \u001b[0;32mas\u001b[0m \u001b[0me\u001b[0m\u001b[0;34m:\u001b[0m\u001b[0;34m\u001b[0m\u001b[0;34m\u001b[0m\u001b[0m\n",
            "\u001b[0;32m/usr/local/lib/python3.7/dist-packages/zmq/sugar/socket.py\u001b[0m in \u001b[0;36mrecv_multipart\u001b[0;34m(self, flags, copy, track)\u001b[0m\n\u001b[1;32m    624\u001b[0m         \"\"\"\n\u001b[0;32m--> 625\u001b[0;31m         \u001b[0mparts\u001b[0m \u001b[0;34m=\u001b[0m \u001b[0;34m[\u001b[0m\u001b[0mself\u001b[0m\u001b[0;34m.\u001b[0m\u001b[0mrecv\u001b[0m\u001b[0;34m(\u001b[0m\u001b[0mflags\u001b[0m\u001b[0;34m,\u001b[0m \u001b[0mcopy\u001b[0m\u001b[0;34m=\u001b[0m\u001b[0mcopy\u001b[0m\u001b[0;34m,\u001b[0m \u001b[0mtrack\u001b[0m\u001b[0;34m=\u001b[0m\u001b[0mtrack\u001b[0m\u001b[0;34m)\u001b[0m\u001b[0;34m]\u001b[0m\u001b[0;34m\u001b[0m\u001b[0;34m\u001b[0m\u001b[0m\n\u001b[0m\u001b[1;32m    626\u001b[0m         \u001b[0;31m# have first part already, only loop while more to receive\u001b[0m\u001b[0;34m\u001b[0m\u001b[0;34m\u001b[0m\u001b[0;34m\u001b[0m\u001b[0m\n",
            "\u001b[0;32mzmq/backend/cython/socket.pyx\u001b[0m in \u001b[0;36mzmq.backend.cython.socket.Socket.recv\u001b[0;34m()\u001b[0m\n",
            "\u001b[0;32mzmq/backend/cython/socket.pyx\u001b[0m in \u001b[0;36mzmq.backend.cython.socket.Socket.recv\u001b[0;34m()\u001b[0m\n",
            "\u001b[0;32mzmq/backend/cython/socket.pyx\u001b[0m in \u001b[0;36mzmq.backend.cython.socket._recv_copy\u001b[0;34m()\u001b[0m\n",
            "\u001b[0;32m/usr/local/lib/python3.7/dist-packages/zmq/backend/cython/checkrc.pxd\u001b[0m in \u001b[0;36mzmq.backend.cython.checkrc._check_rc\u001b[0;34m()\u001b[0m\n",
            "\u001b[0;31mKeyboardInterrupt\u001b[0m: ",
            "\nDuring handling of the above exception, another exception occurred:\n",
            "\u001b[0;31mKeyboardInterrupt\u001b[0m                         Traceback (most recent call last)",
            "\u001b[0;32m<ipython-input-40-349e2641b946>\u001b[0m in \u001b[0;36m<module>\u001b[0;34m()\u001b[0m\n\u001b[1;32m      8\u001b[0m     \u001b[0mfib_list\u001b[0m \u001b[0;34m=\u001b[0m \u001b[0;34m[\u001b[0m\u001b[0;34m(\u001b[0m\u001b[0mstr\u001b[0m\u001b[0;34m(\u001b[0m\u001b[0mfibo\u001b[0m\u001b[0;34m(\u001b[0m\u001b[0mi\u001b[0m\u001b[0;34m)\u001b[0m\u001b[0;34m)\u001b[0m\u001b[0;34m)\u001b[0m \u001b[0;32mfor\u001b[0m \u001b[0mi\u001b[0m \u001b[0;32min\u001b[0m \u001b[0mrange\u001b[0m\u001b[0;34m(\u001b[0m\u001b[0;36m0\u001b[0m\u001b[0;34m,\u001b[0m \u001b[0mn\u001b[0m\u001b[0;34m+\u001b[0m\u001b[0;36m1\u001b[0m\u001b[0;34m)\u001b[0m\u001b[0;34m]\u001b[0m\u001b[0;34m\u001b[0m\u001b[0;34m\u001b[0m\u001b[0m\n\u001b[1;32m      9\u001b[0m     \u001b[0;32mreturn\u001b[0m \u001b[0mprint\u001b[0m\u001b[0;34m(\u001b[0m\u001b[0;34m\",\"\u001b[0m\u001b[0;34m.\u001b[0m\u001b[0mjoin\u001b[0m\u001b[0;34m(\u001b[0m\u001b[0mfib_list\u001b[0m\u001b[0;34m)\u001b[0m\u001b[0;34m)\u001b[0m\u001b[0;34m\u001b[0m\u001b[0;34m\u001b[0m\u001b[0m\n\u001b[0;32m---> 10\u001b[0;31m \u001b[0mn\u001b[0m \u001b[0;34m=\u001b[0m \u001b[0mint\u001b[0m\u001b[0;34m(\u001b[0m\u001b[0minput\u001b[0m\u001b[0;34m(\u001b[0m\u001b[0;34m)\u001b[0m\u001b[0;34m)\u001b[0m\u001b[0;34m\u001b[0m\u001b[0;34m\u001b[0m\u001b[0m\n\u001b[0m\u001b[1;32m     11\u001b[0m \u001b[0mprint_fiblist\u001b[0m\u001b[0;34m(\u001b[0m\u001b[0mn\u001b[0m\u001b[0;34m)\u001b[0m\u001b[0;34m\u001b[0m\u001b[0;34m\u001b[0m\u001b[0m\n",
            "\u001b[0;32m/usr/local/lib/python3.7/dist-packages/ipykernel/kernelbase.py\u001b[0m in \u001b[0;36mraw_input\u001b[0;34m(self, prompt)\u001b[0m\n\u001b[1;32m    702\u001b[0m             \u001b[0mself\u001b[0m\u001b[0;34m.\u001b[0m\u001b[0m_parent_ident\u001b[0m\u001b[0;34m,\u001b[0m\u001b[0;34m\u001b[0m\u001b[0;34m\u001b[0m\u001b[0m\n\u001b[1;32m    703\u001b[0m             \u001b[0mself\u001b[0m\u001b[0;34m.\u001b[0m\u001b[0m_parent_header\u001b[0m\u001b[0;34m,\u001b[0m\u001b[0;34m\u001b[0m\u001b[0;34m\u001b[0m\u001b[0m\n\u001b[0;32m--> 704\u001b[0;31m             \u001b[0mpassword\u001b[0m\u001b[0;34m=\u001b[0m\u001b[0;32mFalse\u001b[0m\u001b[0;34m,\u001b[0m\u001b[0;34m\u001b[0m\u001b[0;34m\u001b[0m\u001b[0m\n\u001b[0m\u001b[1;32m    705\u001b[0m         )\n\u001b[1;32m    706\u001b[0m \u001b[0;34m\u001b[0m\u001b[0m\n",
            "\u001b[0;32m/usr/local/lib/python3.7/dist-packages/ipykernel/kernelbase.py\u001b[0m in \u001b[0;36m_input_request\u001b[0;34m(self, prompt, ident, parent, password)\u001b[0m\n\u001b[1;32m    732\u001b[0m             \u001b[0;32mexcept\u001b[0m \u001b[0mKeyboardInterrupt\u001b[0m\u001b[0;34m:\u001b[0m\u001b[0;34m\u001b[0m\u001b[0;34m\u001b[0m\u001b[0m\n\u001b[1;32m    733\u001b[0m                 \u001b[0;31m# re-raise KeyboardInterrupt, to truncate traceback\u001b[0m\u001b[0;34m\u001b[0m\u001b[0;34m\u001b[0m\u001b[0;34m\u001b[0m\u001b[0m\n\u001b[0;32m--> 734\u001b[0;31m                 \u001b[0;32mraise\u001b[0m \u001b[0mKeyboardInterrupt\u001b[0m\u001b[0;34m\u001b[0m\u001b[0;34m\u001b[0m\u001b[0m\n\u001b[0m\u001b[1;32m    735\u001b[0m             \u001b[0;32melse\u001b[0m\u001b[0;34m:\u001b[0m\u001b[0;34m\u001b[0m\u001b[0;34m\u001b[0m\u001b[0m\n\u001b[1;32m    736\u001b[0m                 \u001b[0;32mbreak\u001b[0m\u001b[0;34m\u001b[0m\u001b[0;34m\u001b[0m\u001b[0m\n",
            "\u001b[0;31mKeyboardInterrupt\u001b[0m: "
          ]
        }
      ]
    },
    {
      "cell_type": "markdown",
      "source": [
        "#input=7 \n",
        "#output=0,1,1,2,3,5,8,13"
      ],
      "metadata": {
        "id": "ihZ1xlH4gh27"
      }
    },
    {
      "cell_type": "markdown",
      "source": [
        "answer 62"
      ],
      "metadata": {
        "id": "goS-S0BmgsTj"
      }
    },
    {
      "cell_type": "code",
      "source": [
        "n = int(input())\n",
        "\n",
        "for i in range(0, n+1, 2):\n",
        "  if i < n - 1:\n",
        "    print(i, end = ',' )\n",
        "  else:\n",
        "    print(i)"
      ],
      "metadata": {
        "colab": {
          "base_uri": "https://localhost:8080/"
        },
        "id": "EYnpFdNdgxjS",
        "outputId": "54cc2ba9-4a5d-4a2a-fe9e-2c2bf9410322"
      },
      "execution_count": 41,
      "outputs": [
        {
          "output_type": "stream",
          "name": "stdout",
          "text": [
            "10\n",
            "0,2,4,6,8,10\n"
          ]
        }
      ]
    },
    {
      "cell_type": "markdown",
      "source": [
        "answer 63"
      ],
      "metadata": {
        "id": "LAxnoW9XhCBS"
      }
    },
    {
      "cell_type": "code",
      "source": [
        "def function(n):\n",
        "    for i in range(n+1):\n",
        "        if i % 35 == 0:   \n",
        "            yield i\n",
        "\n",
        "n = int(input())\n",
        "com = [str(i) for i in function(n)]\n",
        "print(\",\".join(com))"
      ],
      "metadata": {
        "colab": {
          "base_uri": "https://localhost:8080/",
          "height": 339
        },
        "id": "sr7CR7PXhDfd",
        "outputId": "8bef2453-6f7b-42e9-c9ce-4504e425c6a4"
      },
      "execution_count": 42,
      "outputs": [
        {
          "name": "stdout",
          "output_type": "stream",
          "text": [
            "100\n"
          ]
        },
        {
          "output_type": "error",
          "ename": "TypeError",
          "evalue": "ignored",
          "traceback": [
            "\u001b[0;31m---------------------------------------------------------------------------\u001b[0m",
            "\u001b[0;31mTypeError\u001b[0m                                 Traceback (most recent call last)",
            "\u001b[0;32m<ipython-input-42-a9fdc78f74ef>\u001b[0m in \u001b[0;36m<module>\u001b[0;34m()\u001b[0m\n\u001b[1;32m      5\u001b[0m \u001b[0;34m\u001b[0m\u001b[0m\n\u001b[1;32m      6\u001b[0m \u001b[0mn\u001b[0m \u001b[0;34m=\u001b[0m \u001b[0mint\u001b[0m\u001b[0;34m(\u001b[0m\u001b[0minput\u001b[0m\u001b[0;34m(\u001b[0m\u001b[0;34m)\u001b[0m\u001b[0;34m)\u001b[0m\u001b[0;34m\u001b[0m\u001b[0;34m\u001b[0m\u001b[0m\n\u001b[0;32m----> 7\u001b[0;31m \u001b[0mcom\u001b[0m \u001b[0;34m=\u001b[0m \u001b[0;34m[\u001b[0m\u001b[0mstr\u001b[0m\u001b[0;34m(\u001b[0m\u001b[0mi\u001b[0m\u001b[0;34m)\u001b[0m \u001b[0;32mfor\u001b[0m \u001b[0mi\u001b[0m \u001b[0;32min\u001b[0m \u001b[0mfunction\u001b[0m\u001b[0;34m(\u001b[0m\u001b[0mn\u001b[0m\u001b[0;34m)\u001b[0m\u001b[0;34m]\u001b[0m\u001b[0;34m\u001b[0m\u001b[0;34m\u001b[0m\u001b[0m\n\u001b[0m\u001b[1;32m      8\u001b[0m \u001b[0mprint\u001b[0m\u001b[0;34m(\u001b[0m\u001b[0;34m\",\"\u001b[0m\u001b[0;34m.\u001b[0m\u001b[0mjoin\u001b[0m\u001b[0;34m(\u001b[0m\u001b[0mcom\u001b[0m\u001b[0;34m)\u001b[0m\u001b[0;34m)\u001b[0m\u001b[0;34m\u001b[0m\u001b[0;34m\u001b[0m\u001b[0m\n",
            "\u001b[0;32m<ipython-input-42-a9fdc78f74ef>\u001b[0m in \u001b[0;36m<listcomp>\u001b[0;34m(.0)\u001b[0m\n\u001b[1;32m      5\u001b[0m \u001b[0;34m\u001b[0m\u001b[0m\n\u001b[1;32m      6\u001b[0m \u001b[0mn\u001b[0m \u001b[0;34m=\u001b[0m \u001b[0mint\u001b[0m\u001b[0;34m(\u001b[0m\u001b[0minput\u001b[0m\u001b[0;34m(\u001b[0m\u001b[0;34m)\u001b[0m\u001b[0;34m)\u001b[0m\u001b[0;34m\u001b[0m\u001b[0;34m\u001b[0m\u001b[0m\n\u001b[0;32m----> 7\u001b[0;31m \u001b[0mcom\u001b[0m \u001b[0;34m=\u001b[0m \u001b[0;34m[\u001b[0m\u001b[0mstr\u001b[0m\u001b[0;34m(\u001b[0m\u001b[0mi\u001b[0m\u001b[0;34m)\u001b[0m \u001b[0;32mfor\u001b[0m \u001b[0mi\u001b[0m \u001b[0;32min\u001b[0m \u001b[0mfunction\u001b[0m\u001b[0;34m(\u001b[0m\u001b[0mn\u001b[0m\u001b[0;34m)\u001b[0m\u001b[0;34m]\u001b[0m\u001b[0;34m\u001b[0m\u001b[0;34m\u001b[0m\u001b[0m\n\u001b[0m\u001b[1;32m      8\u001b[0m \u001b[0mprint\u001b[0m\u001b[0;34m(\u001b[0m\u001b[0;34m\",\"\u001b[0m\u001b[0;34m.\u001b[0m\u001b[0mjoin\u001b[0m\u001b[0;34m(\u001b[0m\u001b[0mcom\u001b[0m\u001b[0;34m)\u001b[0m\u001b[0;34m)\u001b[0m\u001b[0;34m\u001b[0m\u001b[0;34m\u001b[0m\u001b[0m\n",
            "\u001b[0;31mTypeError\u001b[0m: 'bytes' object is not callable"
          ]
        }
      ]
    },
    {
      "cell_type": "markdown",
      "source": [
        "answer 64 \n",
        "input: 100\n",
        "output:0,35,70"
      ],
      "metadata": {
        "id": "pcunfr0Fhlct"
      }
    },
    {
      "cell_type": "code",
      "source": [
        "list1 = [2,4,6,8,10]\n",
        "for i in list1:\n",
        "    assert i%2==0"
      ],
      "metadata": {
        "id": "1uu8xu_Nhrrg"
      },
      "execution_count": 43,
      "outputs": []
    },
    {
      "cell_type": "markdown",
      "source": [
        "answer 65"
      ],
      "metadata": {
        "id": "fo_UQOjQh0L9"
      }
    },
    {
      "cell_type": "code",
      "source": [
        "input = input()\n",
        "ans = eval(input)\n",
        "print(ans)\n"
      ],
      "metadata": {
        "colab": {
          "base_uri": "https://localhost:8080/"
        },
        "id": "alYaW0pZh1Y0",
        "outputId": "19853587-219b-4426-b3be-be25f37bf8e4"
      },
      "execution_count": 44,
      "outputs": [
        {
          "output_type": "stream",
          "name": "stdout",
          "text": [
            "35+3\n",
            "38\n"
          ]
        }
      ]
    },
    {
      "cell_type": "markdown",
      "source": [
        "answer 66"
      ],
      "metadata": {
        "id": "koRjR2Xgh8cY"
      }
    },
    {
      "cell_type": "code",
      "source": [
        "def binary(lst, num):\n",
        "    low = 0\n",
        "    high = len(lst) - 1\n",
        "    \n",
        "    while low <= high:\n",
        "        mid = round((low + high) / 2)\n",
        "        \n",
        "        if lst[mid] == num:\n",
        "            return mid\n",
        "        elif lst[mid] > num:\n",
        "            high = mid - 1\n",
        "        else:\n",
        "            low = mid + 1\n",
        "    return None\n",
        "    \n",
        "lst = [1,7,8,9,10]\n",
        "print(binary(lst, 10))"
      ],
      "metadata": {
        "colab": {
          "base_uri": "https://localhost:8080/"
        },
        "id": "52yhAgyvh9wA",
        "outputId": "9151faa2-f78f-4d04-fbe6-a70a9444a5cd"
      },
      "execution_count": 46,
      "outputs": [
        {
          "output_type": "stream",
          "name": "stdout",
          "text": [
            "4\n"
          ]
        }
      ]
    },
    {
      "cell_type": "markdown",
      "source": [
        "answer 67"
      ],
      "metadata": {
        "id": "gXypf0UIiMqL"
      }
    },
    {
      "cell_type": "code",
      "source": [
        "import random\n",
        "randomnum = random.uniform(10,100)\n",
        "print(randomnum)"
      ],
      "metadata": {
        "colab": {
          "base_uri": "https://localhost:8080/"
        },
        "id": "ajVzZT-ViOKp",
        "outputId": "9ea890ca-3fc1-4a7d-88d5-ac6097fac0f3"
      },
      "execution_count": 49,
      "outputs": [
        {
          "output_type": "stream",
          "name": "stdout",
          "text": [
            "41.14565574306758\n"
          ]
        }
      ]
    },
    {
      "cell_type": "markdown",
      "source": [
        "answer 68"
      ],
      "metadata": {
        "id": "eBSTtqYnibPk"
      }
    },
    {
      "cell_type": "code",
      "source": [
        "import random\n",
        "randomnum = random.uniform(5,95)\n",
        "print(randomnum)"
      ],
      "metadata": {
        "colab": {
          "base_uri": "https://localhost:8080/"
        },
        "id": "jNRCE0CXic3A",
        "outputId": "7db8e3b4-7b53-42fe-dce0-a2a6acd3fc6c"
      },
      "execution_count": 50,
      "outputs": [
        {
          "output_type": "stream",
          "name": "stdout",
          "text": [
            "28.321342223145844\n"
          ]
        }
      ]
    },
    {
      "cell_type": "markdown",
      "source": [
        "answer 69"
      ],
      "metadata": {
        "id": "UiT87o4cihmX"
      }
    },
    {
      "cell_type": "code",
      "source": [
        "import random\n",
        "out = [i for i in range(0,11,2)]\n",
        "print(random.choice(out))\n"
      ],
      "metadata": {
        "colab": {
          "base_uri": "https://localhost:8080/"
        },
        "id": "s7IaCG9tijFD",
        "outputId": "86bc91fd-396b-4c44-e85e-74bab9d19378"
      },
      "execution_count": 51,
      "outputs": [
        {
          "output_type": "stream",
          "name": "stdout",
          "text": [
            "4\n"
          ]
        }
      ]
    },
    {
      "cell_type": "markdown",
      "source": [
        "answer 70"
      ],
      "metadata": {
        "id": "q86VrmG0jCkq"
      }
    },
    {
      "cell_type": "code",
      "source": [
        "import random\n",
        "out = [i for i in range(10,151) if i % 35 == 0 ]\n",
        "print(random.choice(out))"
      ],
      "metadata": {
        "colab": {
          "base_uri": "https://localhost:8080/"
        },
        "id": "gqDFw_8ijEsz",
        "outputId": "1dce4f43-96e0-45fc-ad6f-20fd909d05e5"
      },
      "execution_count": 52,
      "outputs": [
        {
          "output_type": "stream",
          "name": "stdout",
          "text": [
            "140\n"
          ]
        }
      ]
    },
    {
      "cell_type": "markdown",
      "source": [
        "answer 71"
      ],
      "metadata": {
        "id": "AGUEZ1H9jZOy"
      }
    },
    {
      "cell_type": "code",
      "source": [
        "import random\n",
        "print (random.sample(range(100,201), 5))"
      ],
      "metadata": {
        "colab": {
          "base_uri": "https://localhost:8080/"
        },
        "id": "1wu2Dl-rjbDw",
        "outputId": "e1217d8b-412d-4760-8cfa-b3fd19e73283"
      },
      "execution_count": 53,
      "outputs": [
        {
          "output_type": "stream",
          "name": "stdout",
          "text": [
            "[184, 145, 114, 142, 173]\n"
          ]
        }
      ]
    },
    {
      "cell_type": "markdown",
      "source": [
        "answer 72"
      ],
      "metadata": {
        "id": "HVFmoFTRjm4K"
      }
    },
    {
      "cell_type": "code",
      "source": [
        "import random\n",
        "print (random.sample(range(100,201,2), 5))"
      ],
      "metadata": {
        "colab": {
          "base_uri": "https://localhost:8080/"
        },
        "id": "IwU0ACOejo8i",
        "outputId": "2be15bc4-0e91-4743-b992-20e692fc17be"
      },
      "execution_count": 54,
      "outputs": [
        {
          "output_type": "stream",
          "name": "stdout",
          "text": [
            "[166, 144, 160, 126, 122]\n"
          ]
        }
      ]
    },
    {
      "cell_type": "markdown",
      "source": [
        "answer 73"
      ],
      "metadata": {
        "id": "VCnQLRYAj0eO"
      }
    },
    {
      "cell_type": "code",
      "source": [
        "import random\n",
        "list1 = [i for i in range(1,1001) if i%35 == 0]\n",
        "out = random.sample(list1,5)\n",
        "print(out)"
      ],
      "metadata": {
        "colab": {
          "base_uri": "https://localhost:8080/"
        },
        "id": "R4AzED46j2Vw",
        "outputId": "9777b36a-6b7f-46ef-8de6-3ac6c2c9986f"
      },
      "execution_count": 55,
      "outputs": [
        {
          "output_type": "stream",
          "name": "stdout",
          "text": [
            "[490, 910, 875, 420, 630]\n"
          ]
        }
      ]
    },
    {
      "cell_type": "markdown",
      "source": [
        "answer 74"
      ],
      "metadata": {
        "id": "XJTzC_3zkF80"
      }
    },
    {
      "cell_type": "code",
      "source": [
        "import random\n",
        "print (random.randrange(7,16))"
      ],
      "metadata": {
        "colab": {
          "base_uri": "https://localhost:8080/"
        },
        "id": "iZmgEdALkHX8",
        "outputId": "3ad16520-c380-4481-f1aa-f4d7dba400ac"
      },
      "execution_count": 57,
      "outputs": [
        {
          "output_type": "stream",
          "name": "stdout",
          "text": [
            "14\n"
          ]
        }
      ]
    },
    {
      "cell_type": "markdown",
      "source": [
        "answer 75"
      ],
      "metadata": {
        "id": "T0F3laU-kjKC"
      }
    },
    {
      "cell_type": "code",
      "source": [
        "string = 'hello world!hello world!hello world!hello world!'\n",
        "x1 = bytes(s, 'utf-8')\n",
        "x2 = zlib.compress(x1)\n",
        "print(x2)\n",
        "print(zlib.decompress(x2))"
      ],
      "metadata": {
        "colab": {
          "base_uri": "https://localhost:8080/",
          "height": 235
        },
        "id": "AmePFLczkkc3",
        "outputId": "640a1e93-4769-47fa-e23b-d4de7dd368a5"
      },
      "execution_count": 58,
      "outputs": [
        {
          "output_type": "error",
          "ename": "NameError",
          "evalue": "ignored",
          "traceback": [
            "\u001b[0;31m---------------------------------------------------------------------------\u001b[0m",
            "\u001b[0;31mNameError\u001b[0m                                 Traceback (most recent call last)",
            "\u001b[0;32m<ipython-input-58-ead0227f4c3f>\u001b[0m in \u001b[0;36m<module>\u001b[0;34m()\u001b[0m\n\u001b[1;32m      1\u001b[0m \u001b[0mstring\u001b[0m \u001b[0;34m=\u001b[0m \u001b[0;34m'hello world!hello world!hello world!hello world!'\u001b[0m\u001b[0;34m\u001b[0m\u001b[0;34m\u001b[0m\u001b[0m\n\u001b[1;32m      2\u001b[0m \u001b[0mx1\u001b[0m \u001b[0;34m=\u001b[0m \u001b[0mbytes\u001b[0m\u001b[0;34m(\u001b[0m\u001b[0ms\u001b[0m\u001b[0;34m,\u001b[0m \u001b[0;34m'utf-8'\u001b[0m\u001b[0;34m)\u001b[0m\u001b[0;34m\u001b[0m\u001b[0;34m\u001b[0m\u001b[0m\n\u001b[0;32m----> 3\u001b[0;31m \u001b[0mx2\u001b[0m \u001b[0;34m=\u001b[0m \u001b[0mzlib\u001b[0m\u001b[0;34m.\u001b[0m\u001b[0mcompress\u001b[0m\u001b[0;34m(\u001b[0m\u001b[0mx1\u001b[0m\u001b[0;34m)\u001b[0m\u001b[0;34m\u001b[0m\u001b[0;34m\u001b[0m\u001b[0m\n\u001b[0m\u001b[1;32m      4\u001b[0m \u001b[0mprint\u001b[0m\u001b[0;34m(\u001b[0m\u001b[0mx2\u001b[0m\u001b[0;34m)\u001b[0m\u001b[0;34m\u001b[0m\u001b[0;34m\u001b[0m\u001b[0m\n\u001b[1;32m      5\u001b[0m \u001b[0mprint\u001b[0m\u001b[0;34m(\u001b[0m\u001b[0mzlib\u001b[0m\u001b[0;34m.\u001b[0m\u001b[0mdecompress\u001b[0m\u001b[0;34m(\u001b[0m\u001b[0mx2\u001b[0m\u001b[0;34m)\u001b[0m\u001b[0;34m)\u001b[0m\u001b[0;34m\u001b[0m\u001b[0;34m\u001b[0m\u001b[0m\n",
            "\u001b[0;31mNameError\u001b[0m: name 'zlib' is not defined"
          ]
        }
      ]
    },
    {
      "cell_type": "markdown",
      "source": [
        "answer 76 \n"
      ],
      "metadata": {
        "id": "NfS7tgY6ky8s"
      }
    },
    {
      "cell_type": "code",
      "source": [
        "import time\n",
        "\n",
        "time1 = time.time()\n",
        "for i in range(100):\n",
        "    x = 1 + 1\n",
        "time2 = time.time()\n",
        "time = time2 - time1\n",
        "print(time)"
      ],
      "metadata": {
        "colab": {
          "base_uri": "https://localhost:8080/"
        },
        "id": "XEviNRs9k3dJ",
        "outputId": "47788018-e664-42f9-970a-5758957aa98b"
      },
      "execution_count": 59,
      "outputs": [
        {
          "output_type": "stream",
          "name": "stdout",
          "text": [
            "9.107589721679688e-05\n"
          ]
        }
      ]
    },
    {
      "cell_type": "markdown",
      "source": [
        "answer 77"
      ],
      "metadata": {
        "id": "9le_6Ua9lKAT"
      }
    },
    {
      "cell_type": "code",
      "source": [
        "import random\n",
        "list1 = [3,6,7,8]\n",
        "random.shuffle(list1)\n",
        "print(list1)"
      ],
      "metadata": {
        "colab": {
          "base_uri": "https://localhost:8080/"
        },
        "id": "Oo0Eb6K6lLiN",
        "outputId": "b16f5def-b849-4efa-deaf-c91818a81f3c"
      },
      "execution_count": 60,
      "outputs": [
        {
          "output_type": "stream",
          "name": "stdout",
          "text": [
            "[7, 6, 3, 8]\n"
          ]
        }
      ]
    },
    {
      "cell_type": "markdown",
      "source": [
        "answer 78"
      ],
      "metadata": {
        "id": "reqIIdU6lQtu"
      }
    },
    {
      "cell_type": "code",
      "source": [
        "subjects=[\"I\", \"You\"]\n",
        "verbs=[\"Play\", \"Love\"]\n",
        "objects=[\"Hockey\",\"Football\"]\n",
        "\n",
        "for x in subjects:\n",
        "    for y in verbs:\n",
        "        for z in objects:\n",
        "            print(\"{} {} {}\".format(x,y,z))"
      ],
      "metadata": {
        "colab": {
          "base_uri": "https://localhost:8080/"
        },
        "id": "CB0qG23rlR1t",
        "outputId": "25f246ca-07ad-492f-a5c6-4c80251fb717"
      },
      "execution_count": 61,
      "outputs": [
        {
          "output_type": "stream",
          "name": "stdout",
          "text": [
            "I Play Hockey\n",
            "I Play Football\n",
            "I Love Hockey\n",
            "I Love Football\n",
            "You Play Hockey\n",
            "You Play Football\n",
            "You Love Hockey\n",
            "You Love Football\n"
          ]
        }
      ]
    },
    {
      "cell_type": "markdown",
      "source": [
        "answer 79"
      ],
      "metadata": {
        "id": "6SYdPryrldWA"
      }
    },
    {
      "cell_type": "code",
      "source": [
        "list1 = [5,6,77,45,22,12,24]\n",
        "list1 = [x for x in list1 if x%2!=0]\n",
        "print (list1)"
      ],
      "metadata": {
        "colab": {
          "base_uri": "https://localhost:8080/"
        },
        "id": "_LqbESndlfFJ",
        "outputId": "b4c09bb6-d49a-4f90-cd35-a6b40db118aa"
      },
      "execution_count": 62,
      "outputs": [
        {
          "output_type": "stream",
          "name": "stdout",
          "text": [
            "[5, 77, 45]\n"
          ]
        }
      ]
    },
    {
      "cell_type": "markdown",
      "source": [
        "answer 80"
      ],
      "metadata": {
        "id": "7-eh8-crlnV2"
      }
    }
  ]
}